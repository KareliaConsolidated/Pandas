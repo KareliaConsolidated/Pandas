{
 "cells": [
  {
   "cell_type": "markdown",
   "metadata": {},
   "source": [
    "### Course Description\n",
    "\n",
    "One of the primary goals of any scientist is to find patterns in data and build models to describe, predict, and extract insight from those patterns. The most fundamental of these patterns is a linear relationship between two variables. This course provides an introduction to exploring, quantifying, and modeling linear relationships in data, by demonstrating techniques such as least-squares, linear regression, estimatation, and bootstrap resampling. Here you will apply the most powerful modeling tools in the python data science ecosystem, including scipy, statsmodels, and scikit-learn, to build and evaluate linear models. By exploring the concepts and applications of linear models with python, this course serves as both a practical introduction to modeling, and as a foundation for learning more advanced modeling techniques and tools in statistics and machine learning."
   ]
  },
  {
   "cell_type": "code",
   "execution_count": 1,
   "metadata": {},
   "outputs": [
    {
     "name": "stdout",
     "output_type": "stream",
     "text": [
      "The distance traveled is 125.0\n"
     ]
    }
   ],
   "source": [
    "# Exploring Linear Trends\n",
    "\n",
    "# Reasons for Modeling: Interpolation\n",
    "# One common use of modeling is interpolation to determine a value \"inside\" or \"in between\" the measured data points. In this exercise, you will make a prediction for the value of the dependent variable distances for a given independent variable times that falls \"in between\" two measurements from a road trip, where the distances are those traveled for the given elapse times.\n",
    "import numpy as np\n",
    "\n",
    "times = np.array([ 0.,  1.,  2.,  3.,  4.,  5.,  6.])\n",
    "distances = np.array([ 0. , 44.04512153, 107.16353484, 148.43674052, 196.39705633,  254.4358147 , 300.])\n",
    "\n",
    "# Compute the total change in distance and change in time\n",
    "total_distance = distances[-1] - distances[0]\n",
    "total_time = times[-1] - times[0]\n",
    "\n",
    "# Estimate the slope of the data from the ratio of the changes\n",
    "average_speed = total_distance / total_time\n",
    "\n",
    "# Predict the distance traveled for a time not measured\n",
    "elapse_time = 2.5\n",
    "distance_traveled = average_speed * elapse_time\n",
    "print(f\"The distance traveled is {distance_traveled}\")"
   ]
  },
  {
   "cell_type": "code",
   "execution_count": 2,
   "metadata": {},
   "outputs": [
    {
     "name": "stdout",
     "output_type": "stream",
     "text": [
      "400.0\n",
      "True\n"
     ]
    }
   ],
   "source": [
    "# Reasons for Modeling: Extrapolation\n",
    "# Another common use of modeling is extrapolation to estimate data values \"outside\" or \"beyond\" the range (min and max values of time) of the measured data. In this exercise, we have measured distances for times 0 through 5 hours, but we are interested in estimating how far we'd go in 8 hours. Using the same data set from the previous exercise, we have prepared a linear model distance = model(time). Use that model() to make a prediction about the distance traveled for a time much larger than the other times in the measurements.\n",
    "\n",
    "def model(time):\n",
    "    return average_speed * time\n",
    "\n",
    "# Select a time not measured.\n",
    "time = 8\n",
    "\n",
    "# Use the model to compute a predicted distance for that time.\n",
    "distance = model(time)\n",
    "\n",
    "# Inspect the value of the predicted distance traveled.\n",
    "print(distance)\n",
    "\n",
    "# Determine if you will make it without refueling.\n",
    "answer = (distance <= 400)\n",
    "print(answer)"
   ]
  },
  {
   "cell_type": "code",
   "execution_count": 3,
   "metadata": {},
   "outputs": [
    {
     "name": "stdout",
     "output_type": "stream",
     "text": [
      "car2 is the best\n"
     ]
    }
   ],
   "source": [
    "# Reasons for Modeling: Estimating Relationships\n",
    "# Another common application of modeling is to compare two data sets by building models for each, and then comparing the models. In this exercise, you are given data for a road trip two cars took together. The cars stopped for gas every 50 miles, but each car did not need to fill up the same amount, because the cars do not have the same fuel efficiency (MPG). Complete the function efficiency_model(miles, gallons) to estimate efficiency as average miles traveled per gallons of fuel consumed. Use the provided dictionaries car1 and car2, which both have keys car['miles'] and car['gallons'].\n",
    "\n",
    "car1 = {'gallons': np.array([0.03333333, 1.69666667, 3.36, 5.02333333, 6.68666667, 8.35,  10.01333333, 11.67666667, 13.34, 15.00333333, 16.66666667]),\n",
    "        'miles': np.array([1. , 50.9, 100.8, 150.7, 200.6, 250.5, 300.4, 350.3, 400.2, 450.1, 500.])}\n",
    "car2 = {'gallons': np.array([0.02, 1.018, 2.016, 3.014, 4.012, 5.01 , 6.008, 7.006,  8.004,  9.002, 10.]),\n",
    "        'miles': np.array([1., 50.9, 100.8, 150.7, 200.6, 250.5, 300.4, 350.3, 400.2,  450.1,  500. ])}\n",
    "\n",
    "# Complete the function to model the efficiency.\n",
    "def efficiency_model(miles, gallons):\n",
    "   return np.mean( miles / gallons )\n",
    "\n",
    "# Use the function to estimate the efficiency for each car.\n",
    "car1['mpg'] = efficiency_model(car1['miles'] , car1['gallons'] )\n",
    "car2['mpg'] = efficiency_model(car2['miles'] , car2['gallons'] )\n",
    "\n",
    "# Finish the logic statement to compare the car efficiencies.\n",
    "if car1['mpg'] > car2['mpg'] :\n",
    "    print('car1 is the best')\n",
    "elif car1['mpg'] < car2['mpg'] :\n",
    "    print('car2 is the best')\n",
    "else:\n",
    "    print('the cars have the same efficiency')"
   ]
  },
  {
   "cell_type": "code",
   "execution_count": 6,
   "metadata": {},
   "outputs": [
    {
     "data": {
      "image/png": "[encoded data removed]",
      "text/plain": [
       "<Figure size 432x288 with 1 Axes>"
      ]
     },
     "metadata": {
      "needs_background": "light"
     },
     "output_type": "display_data"
    }
   ],
   "source": [
    "# Plotting the Data\n",
    "# Everything in python is an object, even modules. Your goal in this exercise is to review the use of the object oriented interfaces to the python library matplotlib in order to visualize measured data in a more flexible and extendable work flow. The general plotting work flow looks like this:\n",
    "\n",
    "# import matplotlib.pyplot as plt \n",
    "# fig, axis = plt.subplots()\n",
    "# axis.plot(x, y, color=\"green\", linestyle=\"--\", marker=\"s\")\n",
    "# plt.show()\n",
    "import matplotlib.pyplot as plt\n",
    "\n",
    "times = np.array([  0.,   1.,   2.,   3.,   4.,   5.,   6.,   7.,   8.,   9.,  10.])\n",
    "distances = np.array([ 0.24835708,  0.93086785,  2.32384427,  3.76151493,  3.88292331, 4.88293152,  6.78960641,  7.38371736,  7.76526281,  9.27128002, 9.76829115])\n",
    "\n",
    "# Create figure and axis objects using subplots()\n",
    "fig, axis = plt.subplots()\n",
    "\n",
    "# Plot line using the axis.plot() method\n",
    "line = axis.plot(times , distances , linestyle=\"--\", marker=\"s\", color=\"green\")\n",
    "\n",
    "# Use the plt.show() method to display the figure\n",
    "plt.show()"
   ]
  },
  {
   "cell_type": "code",
   "execution_count": 5,
   "metadata": {},
   "outputs": [
    {
     "data": {
      "image/png": "[encoded data removed]",
      "text/plain": [
       "<Figure size 432x288 with 1 Axes>"
      ]
     },
     "metadata": {
      "needs_background": "light"
     },
     "output_type": "display_data"
    }
   ],
   "source": [
    "# Plotting the Model on the Data\n",
    "# Continuing with the same measured data from the previous exercise, your goal is to use a predefined model() and measured data times and measured_distances to compute modeled distances, and then plot both measured and modeled data on the same axis.\n",
    "measured_distances = np.array([0.25, 0.93, 2.32, 3.76, 3.88, 4.88, 6.79, 7.38, 7.77, 9.27, 9.77])\n",
    "\n",
    "# Pass times and measured distances into model\n",
    "# model_distances = model(times, measured_distances)\n",
    "model_distances = np.array([  0.,   1.,   2.,   3.,   4.,   5.,   6.,   7.,   8.,   9.,  10.])\n",
    "\n",
    "# Create figure and axis objects and call axis.plot() twice to plot data and model distances versus times\n",
    "fig, axis = plt.subplots()\n",
    "axis.plot(times, measured_distances, linestyle=\" \", marker=\"o\", color=\"black\", label=\"Measured\")\n",
    "axis.plot(times, model_distances, linestyle=\"-\", marker=None, color=\"red\", label=\"Modeled\")\n",
    "\n",
    "# Add grid lines and a legend to your plot, and then show to display\n",
    "axis.grid(True)\n",
    "axis.legend(loc=\"best\")\n",
    "plt.show()"
   ]
  },
  {
   "cell_type": "code",
   "execution_count": 26,
   "metadata": {},
   "outputs": [
    {
     "name": "stdout",
     "output_type": "stream",
     "text": [
      "Mean: 5.5\n",
      "Variance: 7.46\n",
      "Standard Deviation: 2.73\n",
      "Covariance: 7.46\n",
      "Correlation: 1.0\n"
     ]
    }
   ],
   "source": [
    "# Review of Single Variable Statistics\n",
    "np.random.seed(42)\n",
    "x = np.round(np.linspace(1,10,20),2)\n",
    "y = np.round(np.linspace(11,20,20),2)\n",
    "# Mean\n",
    "mean = sum(x)/len(x)\n",
    "print(f\"Mean: {mean}\")\n",
    "\n",
    "# Deviation, sometimes called \"centering\"\n",
    "dx = x - np.mean(x)\n",
    "\n",
    "# Variance\n",
    "variance = np.mean(dx * dx)\n",
    "print(f\"Variance: {np.round(variance,2)}\")\n",
    "\n",
    "# Deviation\n",
    "std = np.std(x)\n",
    "print(f\"Standard Deviation: {np.round(std,2)}\")\n",
    "\n",
    "# Covariance\n",
    "# Deviations of two variables\n",
    "dx = x-np.mean(x)\n",
    "dy = y-np.mean(y)\n",
    "# Co-vary means to vary together\n",
    "deviation_products = dx * dy\n",
    "# Covariance as the mean\n",
    "covariance = np.mean(dx*dy)\n",
    "print(f\"Covariance: {np.round(covariance,2)}\")\n",
    "\n",
    "\n",
    "# Correlation\n",
    "# Divide deviations by standard deviation\n",
    "zx = dx/np.std(x)\n",
    "zy = dy/np.std(y)\n",
    "\n",
    "# Mean of the normalize deviations\n",
    "correlation = np.mean(zx * zy)\n",
    "print(f\"Correlation: {np.round(correlation,2)}\")"
   ]
  }
 ],
 "metadata": {
  "kernelspec": {
   "display_name": "Python 3",
   "language": "python",
   "name": "python3"
  },
  "language_info": {
   "codemirror_mode": {
    "name": "ipython",
    "version": 3
   },
   "file_extension": ".py",
   "mimetype": "text/x-python",
   "name": "python",
   "nbconvert_exporter": "python",
   "pygments_lexer": "ipython3",
   "version": "3.7.4"
  }
 },
 "nbformat": 4,
 "nbformat_minor": 2
}
